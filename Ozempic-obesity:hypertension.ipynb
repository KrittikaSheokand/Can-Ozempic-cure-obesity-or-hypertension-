{
 "cells": [
  {
   "cell_type": "code",
   "execution_count": null,
   "metadata": {},
   "outputs": [],
   "source": [
    "#Import required packages\n",
    "import numpy as np \n",
    "import pandas as pd \n",
    "import matplotlib.pyplot as plt \n",
    "import seaborn as sns \n",
    "from pandasql import sqldf\n",
    "from sklearn.preprocessing import OneHotEncoder, StandardScaler, LabelEncoder\n",
    "from sklearn.model_selection import train_test_split\n",
    "from sklearn.linear_model import LinearRegression, Lasso, LassoCV\n",
    "from sklearn.metrics import mean_squared_error, r2_score\n"
   ]
  },
  {
   "cell_type": "code",
   "execution_count": null,
   "metadata": {},
   "outputs": [],
   "source": [
    "#Load data\n",
    "medical_df=pd.read_csv('longyear-obese-hypertensive-40-57-medical-SMALL-sample.csv')"
   ]
  },
  {
   "cell_type": "code",
   "execution_count": null,
   "metadata": {},
   "outputs": [],
   "source": [
    "#Drop duplicate rows\n",
    "medical_df.drop_duplicates(inplace=True)"
   ]
  },
  {
   "cell_type": "code",
   "execution_count": null,
   "metadata": {},
   "outputs": [],
   "source": [
    "#Check columns\n",
    "medical_df.columns"
   ]
  },
  {
   "cell_type": "code",
   "execution_count": null,
   "metadata": {},
   "outputs": [],
   "source": [
    "medical_df.shape #Check number of rows and columns"
   ]
  },
  {
   "cell_type": "code",
   "execution_count": null,
   "metadata": {},
   "outputs": [],
   "source": [
    "medical_df['journey_id'].nunique()"
   ]
  },
  {
   "cell_type": "code",
   "execution_count": null,
   "metadata": {},
   "outputs": [],
   "source": [
    "#Make a new column OH which indicates whether someone was diagnosed with obesity or hypertension that day\n",
    "diag_columns = [col for col in medical_df.columns if col.startswith('diag_')]\n",
    "\n",
    "# Initialize column with 0\n",
    "medical_df['OH'] = 0\n",
    "\n",
    "# Looping through each diag column \n",
    "for col in diag_columns:\n",
    "    # Assign value to 'OH' according to diag columns. 1 if any diag column starts with 'E66' or 'I10', otherwise 0\n",
    "    medical_df['OH'] = np.where((medical_df[col].str.startswith('E66')) | (medical_df[col].str.startswith('I10')) | (medical_df['OH'] == 1), 1, 0)"
   ]
  },
  {
   "cell_type": "code",
   "execution_count": null,
   "metadata": {},
   "outputs": [],
   "source": [
    "#Make column d which indicates whether the patient was given ozempic\n",
    "medical_df['d'] = np.where(medical_df['proc_code'] == 'J3490',1,0) #'J3490' is the proc_code for ozempic"
   ]
  },
  {
   "cell_type": "code",
   "execution_count": null,
   "metadata": {},
   "outputs": [],
   "source": [
    "# Calculate counts for each year\n",
    "counts = pd.to_datetime(medical_df[medical_df['d'] == 1]['claim_date']).dt.year.value_counts().sort_index()\n",
    "\n",
    "# Plot \n",
    "fig, ax = plt.subplots(figsize=(14, 8))\n",
    "ax = counts.plot(kind='bar', title=\"claim_date Volume Chart\", ax=ax)\n",
    "ax.set_xlabel(\"claim_date (Year)\")\n",
    "ax.set_ylabel(\"Frequency\")\n",
    "\n",
    "# Display percentage on the bars\n",
    "total_entries = len(medical_df[medical_df['d'] == 1])\n",
    "for i, val in enumerate(counts):\n",
    "    ax.text(i, val + 0.5, f\"{(val / total_entries):.2%}\", ha='center')\n",
    "\n",
    "plt.show()"
   ]
  },
  {
   "cell_type": "markdown",
   "metadata": {},
   "source": [
    "Ozempic use has been increasing over the years. Data for 2023 is until September and adding next 3 months might/might not increase the count there. However, we can safely say that usage has been increasing every year."
   ]
  },
  {
   "cell_type": "code",
   "execution_count": null,
   "metadata": {},
   "outputs": [],
   "source": [
    "#Get first date of ozempic use\n",
    "earliest_oz_date = medical_df[medical_df['d'] == 1]['claim_date'].min()\n",
    "print(\"Earliest Ozempic date in dataset:\", earliest_oz_date.date())\n",
    "\n",
    "#Get first date in dataset\n",
    "earliest_date = medical_df['claim_date'].min()\n",
    "print(\"Earliest date in dataset:\", earliest_date.date())"
   ]
  },
  {
   "cell_type": "code",
   "execution_count": null,
   "metadata": {},
   "outputs": [],
   "source": [
    "specialty_count = medical_df[medical_df['d'] == 1]['hcp_specialty'].value_counts()\n",
    "\n",
    "# Plotting\n",
    "specialty_count.plot(kind='bar', figsize=(10, 6), color='skyblue')\n",
    "plt.title('Count of HCP Specialties')\n",
    "plt.xlabel('Specialty')\n",
    "plt.ylabel('Count')\n",
    "plt.xticks(rotation=45, ha='right')\n",
    "plt.tight_layout()\n",
    "plt.show()"
   ]
  },
  {
   "cell_type": "markdown",
   "metadata": {},
   "source": [
    "Ozempic was prescribed most by emergency medicine doctors followed by internal medicine and nephrology."
   ]
  },
  {
   "cell_type": "code",
   "execution_count": null,
   "metadata": {},
   "outputs": [],
   "source": [
    "visit_type_count = medical_df[medical_df['d'] == 1]['visit_type'].value_counts()\n",
    "\n",
    "# Plotting\n",
    "visit_type_count.plot(kind='bar', figsize=(10, 6), color='skyblue')\n",
    "plt.title('Count of Visit Type')\n",
    "plt.xlabel('Visit Type')\n",
    "plt.ylabel('Count')\n",
    "plt.xticks(rotation=45, ha='right')\n",
    "plt.tight_layout()\n",
    "plt.show()"
   ]
  },
  {
   "cell_type": "markdown",
   "metadata": {},
   "source": [
    "Ozempic is prescribed in highest numbers during outpatient visits. This can be a factor affecting treatment."
   ]
  },
  {
   "cell_type": "code",
   "execution_count": null,
   "metadata": {},
   "outputs": [],
   "source": [
    "age_count = medical_df[medical_df['d'] == 1]['patient_age'].value_counts().sort_index()\n",
    "\n",
    "# Plotting\n",
    "age_count.plot(kind='bar', figsize=(10, 6), color='skyblue')\n",
    "plt.title('Count of Patient Age')\n",
    "plt.xlabel('Age')\n",
    "plt.ylabel('Count')\n",
    "plt.xticks(rotation=45, ha='right')\n",
    "plt.tight_layout()\n",
    "plt.show()"
   ]
  },
  {
   "cell_type": "markdown",
   "metadata": {},
   "source": [
    "Ozempic prescription increases with age but not for people who are above 55."
   ]
  },
  {
   "cell_type": "code",
   "execution_count": null,
   "metadata": {},
   "outputs": [],
   "source": [
    "#Datframe which has information for patients who had obesity/hypertension\n",
    "oh_df = medical_df[medical_df['OH'] == 1]\n",
    "\n",
    "# Histogram for Age distribution amongst people with obesity/hypertension\n",
    "plt.figure(figsize=(6, 4))\n",
    "plt.hist(oh_df['patient_age'], bins=10, edgecolor='black')\n",
    "plt.title('Age Distribution')\n",
    "plt.xlabel('Age')\n",
    "plt.ylabel('Frequency')\n",
    "plt.show()"
   ]
  },
  {
   "cell_type": "markdown",
   "metadata": {},
   "source": [
    "Older people are diagnosed with obesity/hypertension more."
   ]
  },
  {
   "cell_type": "code",
   "execution_count": null,
   "metadata": {},
   "outputs": [],
   "source": [
    "state_count = medical_df[medical_df['d'] == 1]['patient_state'].value_counts()\n",
    "\n",
    "# Plotting\n",
    "state_count.plot(kind='bar', figsize=(10, 6), color='skyblue')\n",
    "plt.title('Count of Patient State')\n",
    "plt.xlabel('State')\n",
    "plt.ylabel('Count')\n",
    "plt.xticks(rotation=45, ha='right')\n",
    "plt.tight_layout()\n",
    "plt.show()"
   ]
  },
  {
   "cell_type": "markdown",
   "metadata": {},
   "source": [
    "Majority of patients who are prescribed ozempic are from California."
   ]
  },
  {
   "cell_type": "code",
   "execution_count": null,
   "metadata": {},
   "outputs": [],
   "source": [
    "zip_count = medical_df[medical_df['d'] == 1]['patient_short_zip'].value_counts()\n",
    "\n",
    "# Plotting\n",
    "zip_count.plot(kind='bar', figsize=(10, 6), color='skyblue')\n",
    "plt.title('Count of Patient Zip Code')\n",
    "plt.xlabel('Zip Code')\n",
    "plt.ylabel('Count')\n",
    "plt.xticks(rotation=45, ha='right')\n",
    "plt.tight_layout()\n",
    "plt.show()"
   ]
  },
  {
   "cell_type": "markdown",
   "metadata": {},
   "source": [
    "Majority chunk from California again as shown by state distribution. Within California, people from San Diego are prescribed ozempic the most. Ozempic is prescribed a lot in Southern California.\n",
    "\n",
    "921.0 - San Diego\n",
    "\n",
    "922.0 - Indio\n",
    "\n",
    "908.0 - Long Beach\n",
    "\n",
    "910.0 - Pasadena\n",
    "\n",
    "911.0 - Pasadena\n",
    "\n",
    "912.0 - Glendale, CA\n",
    "\n",
    "853.0 - Glendale, AZ\n",
    "\n",
    "\n"
   ]
  },
  {
   "cell_type": "code",
   "execution_count": null,
   "metadata": {},
   "outputs": [],
   "source": [
    "\n",
    "patient_gender_count = medical_df[medical_df['d'] == 1]['patient_gender'].value_counts()\n",
    "\n",
    "# Plotting\n",
    "patient_gender_count.plot(kind='bar', figsize=(10, 6), color='skyblue')\n",
    "plt.title('Count of Patient Gender')\n",
    "plt.xlabel('Gender')\n",
    "plt.ylabel('Count')\n",
    "plt.xticks(rotation=0, ha='right')\n",
    "plt.tight_layout()\n",
    "plt.show()"
   ]
  },
  {
   "cell_type": "markdown",
   "metadata": {},
   "source": [
    "Females are prescribed more. They are diagnosed with obesity/hypertension more as shown in following graph."
   ]
  },
  {
   "cell_type": "code",
   "execution_count": null,
   "metadata": {},
   "outputs": [],
   "source": [
    "#Check distribution of gender in the dataset\n",
    "plt.figure(figsize=(6, 4))\n",
    "sns.countplot(x='patient_gender', data=oh_df)\n",
    "plt.title('Distribution of Gender')\n",
    "plt.show()"
   ]
  },
  {
   "cell_type": "code",
   "execution_count": null,
   "metadata": {},
   "outputs": [],
   "source": [
    "place_of_service_count = medical_df[medical_df['d'] == 1]['place_of_service'].value_counts()\n",
    "\n",
    "# Plotting\n",
    "place_of_service_count.plot(kind='bar', figsize=(10, 6), color='skyblue')\n",
    "plt.title('Count of Place of Service')\n",
    "plt.xlabel('Place of Place of Service')\n",
    "plt.ylabel('Count')\n",
    "plt.xticks(rotation=45, ha='right')\n",
    "plt.tight_layout()\n",
    "plt.show()\n",
    "\n"
   ]
  },
  {
   "cell_type": "markdown",
   "metadata": {},
   "source": [
    "Ozempic is prescribed considerbly higher in Offices as compared to other places"
   ]
  },
  {
   "cell_type": "code",
   "execution_count": null,
   "metadata": {},
   "outputs": [],
   "source": [
    "#Payor distribution\n",
    "payor_count = medical_df[medical_df['d'] == 1]['payor'].value_counts()\n",
    "\n",
    "# Plotting\n",
    "payor_count.plot(kind='bar', figsize=(10, 6), color='skyblue')\n",
    "plt.title('Count of payor')\n",
    "plt.xlabel('Place of payor')\n",
    "plt.ylabel('Count')\n",
    "plt.xticks(rotation=45, ha='right')\n",
    "plt.tight_layout()\n",
    "plt.show()"
   ]
  },
  {
   "cell_type": "markdown",
   "metadata": {},
   "source": [
    "Ozempic is not covered by insurance for obesity treatment but is covered as diabetes treatment so, not going to use this in model"
   ]
  },
  {
   "cell_type": "markdown",
   "metadata": {},
   "source": [
    "Amongst people diagnosed with obesity/hypertension, females form a greater percentage."
   ]
  },
  {
   "cell_type": "code",
   "execution_count": null,
   "metadata": {},
   "outputs": [],
   "source": [
    "# Visualize the correlation matrix\n",
    "numeric_cols= oh_df.select_dtypes(include=[np.number]).columns.tolist()\n",
    "\n",
    "plt.figure(figsize=(14, 10))\n",
    "sns.heatmap(oh_df[numeric_cols].corr(), annot=True, cmap='coolwarm', fmt='.2f')\n",
    "plt.title('Correlation Matrix')\n",
    "plt.show()"
   ]
  },
  {
   "cell_type": "markdown",
   "metadata": {},
   "source": [
    "No significant correlation discovered."
   ]
  },
  {
   "cell_type": "code",
   "execution_count": null,
   "metadata": {},
   "outputs": [],
   "source": [
    "#Keep only relevant columns\n",
    "columns_to_keep = ['journey_id','claim_date','patient_state', 'patient_short_zip', 'patient_age', 'patient_gender', 'visit_type','hcp_specialty','place_of_service','diag_1', 'diag_2', 'diag_3', 'diag_4',\n",
    "       'diag_5','proc_code','OH','d']\n",
    "df = medical_df[columns_to_keep]\n",
    "df.head()"
   ]
  },
  {
   "cell_type": "code",
   "execution_count": null,
   "metadata": {},
   "outputs": [],
   "source": [
    "# Check for null values print only the columns with nulls in decending order of null coutns \n",
    "null_info = pd.DataFrame({'Column': df.isnull().sum().index, 'Null Count': df.isnull().sum().values}).sort_values(by='Null Count' , ascending=False)\n",
    "null_info['Null Percentage'] = (null_info['Null Count'] / len(df)) * 100\n",
    "\n",
    "# Display the result\n",
    "print(null_info[null_info['Null Count'] > 0])"
   ]
  },
  {
   "cell_type": "code",
   "execution_count": null,
   "metadata": {},
   "outputs": [],
   "source": [
    "#Drop rows with null values in the columns where null value percentage is low\n",
    "df = df.dropna(subset = ['proc_code'])\n",
    "df = df.dropna(subset = ['patient_age'])\n",
    "df = df.dropna(subset = ['patient_gender'])\n",
    "df = df.dropna(subset = ['patient_short_zip'])\n",
    "df = df.dropna(subset = ['visit_type'])\n",
    "\n",
    "#Add Unknown to where hcp_specialty and place_of_service are missing\n",
    "df['hcp_specialty'] = df['hcp_specialty'].astype(str).fillna('UNKNOWN')\n",
    "df['place_of_service'] = df['place_of_service'].astype(str).fillna('UNKNOWN')\n"
   ]
  },
  {
   "cell_type": "markdown",
   "metadata": {},
   "source": [
    "diag_2, diag_3, diag_4, diag_5 columns can have NULL values when diag_1 has values so, no need to treat these. I am not treating diag_1 here as I want to check this column after grouping on jouney_id"
   ]
  },
  {
   "cell_type": "code",
   "execution_count": null,
   "metadata": {},
   "outputs": [],
   "source": [
    "# Check for null values print only the columns with nulls in decending order of null coutns \n",
    "null_info = pd.DataFrame({'Column': df.isnull().sum().index, 'Null Count': df.isnull().sum().values}).sort_values(by='Null Count' , ascending=False)\n",
    "null_info['Null Percentage'] = (null_info['Null Count'] / len(df)) * 100\n",
    "\n",
    "# Display the result\n",
    "print(null_info[null_info['Null Count'] > 0])"
   ]
  },
  {
   "cell_type": "code",
   "execution_count": null,
   "metadata": {},
   "outputs": [],
   "source": [
    "#Make columns for dates of obesity/hypertension diagnosis date. This date will be later used to make outcome variable\n",
    "df['OH_diagnosed_date'] = np.where(df['OH']==1,df['claim_date'],np.nan)\n",
    "df['OH_not_diagnosed_date'] = np.where(df['OH']==0,df['claim_date'],np.nan)"
   ]
  },
  {
   "cell_type": "code",
   "execution_count": null,
   "metadata": {},
   "outputs": [],
   "source": [
    "df.head()"
   ]
  },
  {
   "cell_type": "code",
   "execution_count": null,
   "metadata": {},
   "outputs": [],
   "source": [
    "#Group the dataset \n",
    "grouping_code = \"\"\"\n",
    "SELECT journey_id, patient_state, patient_short_zip, patient_age, patient_gender, visit_type, hcp_specialty, place_of_service\n",
    ", max(OH) as OH\n",
    ", max(d) as d\n",
    ",min(OH_diagnosed_date) as earliest_OH_diagnosed_date\n",
    ",max(OH_not_diagnosed_date) as last_OH_not_diagnosed_date\n",
    "FROM df\n",
    "GROUP BY 1,2,3,4,5,6,7,8\n",
    "\"\"\"\n",
    "grouped_df = sqldf(grouping_code)\n"
   ]
  },
  {
   "cell_type": "code",
   "execution_count": null,
   "metadata": {},
   "outputs": [],
   "source": [
    "# We are interested in people who were diagnosed with obesity/hypertension at some point and were 40 and 75 years of age \n",
    "filtered_df = grouped_df[(grouped_df['OH']==1)& (grouped_df['patient_age']>40) & (grouped_df['patient_age']<75)]\n"
   ]
  },
  {
   "cell_type": "code",
   "execution_count": null,
   "metadata": {},
   "outputs": [],
   "source": [
    "# Make outcome variable 'y' which indicates whether the patient got treated successfully or not - if the patient was diagnosed with obesity'hypertension at some point and was not diagnosed with them later, we can say that the patient was treated\n",
    "filtered_df['y'] = np.where(filtered_df['last_OH_not_diagnosed_date'] > filtered_df['earliest_OH_diagnosed_date'], 1, 0)"
   ]
  },
  {
   "cell_type": "code",
   "execution_count": null,
   "metadata": {},
   "outputs": [],
   "source": [
    "filtered_df.head()"
   ]
  },
  {
   "cell_type": "code",
   "execution_count": null,
   "metadata": {},
   "outputs": [],
   "source": [
    "##Perform one hot encoding on gender\n",
    "one_hot_df = pd.get_dummies(filtered_df, columns=['patient_gender'],drop_first=True,dtype=float)\n",
    "\n",
    "#Perform label encoding on remaining categorical variables\n",
    "# Columns to label encode\n",
    "columns_to_encode = ['patient_state','patient_short_zip','patient_age','visit_type','hcp_specialty','place_of_service']\n",
    "                                                       \n",
    "\n",
    "# Initialize LabelEncoder\n",
    "label_encoder = LabelEncoder()\n",
    "\n",
    "# Apply label encoding to each column\n",
    "for column in columns_to_encode:\n",
    "    one_hot_df[column] = label_encoder.fit_transform(one_hot_df[column])"
   ]
  },
  {
   "cell_type": "code",
   "execution_count": null,
   "metadata": {},
   "outputs": [],
   "source": [
    "one_hot_df.head()"
   ]
  },
  {
   "cell_type": "markdown",
   "metadata": {},
   "source": [
    "Causal Analysis Setup:\n",
    "Potential endogeneity issues can arise while determining effect of ozempic on the target population. Whether a patient was given ozempic or not is not completely random, therefore trying to look at patients who got ozempic and who did not and directly calculating treatment effect would be misleading. We need to control confounding factors here, which means there are factors influencing whether a patient was given ozempic or not which need to be controlled. For example, a patient might have been givn ozempic in hospital but not during a home visit.\n",
    "\n",
    "We need to measure effect of part od d which is independent of x. For that, we will estimate d from x and use that predicted d as well while running regressing on y. This predicted d will capture the endogeneity effect and we will get an estimate of treatment effect."
   ]
  },
  {
   "cell_type": "markdown",
   "metadata": {},
   "source": [
    "I included Patient state, Patient Zip Code, Patient Age, Patient Gender, Visit Type, HCP Specialty, Place of Service in the model. Looking at the distribution of people who got ozempic across these, there was difference in values of these variables. Therefore, I included them. Also, \n",
    "\n",
    "Visit Type/Place of Service - Ozempic might have been prescribed more in office settings than home because in hospitals, the patient might have been directed to the doctor who would prescribe ozempic.\n",
    "\n",
    "HCP Specialty - Internal medicine doctors prescribe more ozempic than others\n",
    "\n",
    "Demographic factors could have been a consideration for prescription"
   ]
  },
  {
   "cell_type": "code",
   "execution_count": null,
   "metadata": {},
   "outputs": [],
   "source": [
    "#Keep columns that are to be used in model\n",
    "columns_to_drop = ['journey_id','OH','earliest_OH_diagnosed_date','last_OH_not_diagnosed_date']\n",
    "filtered_df2 = one_hot_df.drop(columns = columns_to_drop)"
   ]
  },
  {
   "cell_type": "code",
   "execution_count": null,
   "metadata": {},
   "outputs": [],
   "source": [
    "#Split the data into testing and training data\n",
    "train, test = train_test_split(filtered_df2, train_size=0.8, random_state=0)"
   ]
  },
  {
   "cell_type": "code",
   "execution_count": null,
   "metadata": {},
   "outputs": [],
   "source": [
    "#Pull x, d and y separately\n",
    "x_train= train.drop(['d','y'],axis=1)\n",
    "x_test= test.drop(['d','y'],axis=1)\n",
    "y_train= train['y']\n",
    "y_test= test['y']\n",
    "d_train= train['d']\n",
    "d_test= test['d']"
   ]
  },
  {
   "cell_type": "markdown",
   "metadata": {},
   "source": [
    "First lasso with d~x"
   ]
  },
  {
   "cell_type": "code",
   "execution_count": null,
   "metadata": {},
   "outputs": [],
   "source": [
    "#Find best alpha through cross-validation\n",
    "\n",
    "from sklearn.linear_model import LassoCV\n",
    "\n",
    "lasso_cv = LassoCV(alphas=None, cv=5, random_state=0)\n",
    "\n",
    "# Fit the model\n",
    "lasso_cv.fit(x_train, d_train)\n",
    "\n",
    "# Best alpha\n",
    "print(f\"Best alpha: {lasso_cv.alpha_}\")"
   ]
  },
  {
   "cell_type": "code",
   "execution_count": null,
   "metadata": {},
   "outputs": [],
   "source": [
    "#Fit lasso and predict treatment variable and store it in another variable \n",
    "lasso = Lasso(alpha=lasso_cv.alpha_)\n",
    "lasso.fit(x_train, d_train)\n",
    "d_train_pred = lasso.predict(x_train)\n",
    "d_test_pred = lasso.predict(x_test)"
   ]
  },
  {
   "cell_type": "code",
   "execution_count": null,
   "metadata": {},
   "outputs": [],
   "source": [
    "x_train.head()"
   ]
  },
  {
   "cell_type": "code",
   "execution_count": null,
   "metadata": {},
   "outputs": [],
   "source": [
    "print(\"Coefficients for first lasso:\", lasso.coef_)"
   ]
  },
  {
   "cell_type": "markdown",
   "metadata": {},
   "source": [
    "Lasso reduced factors - patient state, patient age, Visit Type and Patient Gender\n",
    "Whether a patient gets treated with ozempic or not depends on which zip code the person belongs to, Specialty of doctor and place of service"
   ]
  },
  {
   "cell_type": "markdown",
   "metadata": {},
   "source": [
    "Second lasso (partial) with y~d, predicted d, x"
   ]
  },
  {
   "cell_type": "code",
   "execution_count": null,
   "metadata": {},
   "outputs": [],
   "source": [
    "#Make new x which has d and predicted d as well\n",
    "x_train2 = train.drop('y',axis=1)\n",
    "x_train2['d_predicted'] = d_train_pred\n",
    "x_test2 = test.drop('y',axis=1)\n",
    "x_test2['d_predicted'] = d_test_pred"
   ]
  },
  {
   "cell_type": "code",
   "execution_count": null,
   "metadata": {},
   "outputs": [],
   "source": [
    "x_train2.head()"
   ]
  },
  {
   "cell_type": "code",
   "execution_count": null,
   "metadata": {},
   "outputs": [],
   "source": [
    "x_train2.shape"
   ]
  },
  {
   "cell_type": "code",
   "execution_count": null,
   "metadata": {},
   "outputs": [],
   "source": [
    "#Function for partial lasso\n",
    "import numpy as np\n",
    "from scipy.optimize import minimize\n",
    "from sklearn.base import BaseEstimator, ClassifierMixin\n",
    "from sklearn.metrics import log_loss\n",
    "\n",
    "class SelectiveRegularizationLogisticRegression(BaseEstimator, ClassifierMixin):\n",
    "    def __init__(self, penalty_indices, penalty_weights, tol=1e-4, max_iter=100):\n",
    "        self.penalty_indices = penalty_indices\n",
    "        self.penalty_weights = penalty_weights\n",
    "        self.tol = tol\n",
    "        self.max_iter = max_iter\n",
    "    \n",
    "    def _sigmoid(self, z):\n",
    "        return 1 / (1 + np.exp(-z))\n",
    "    \n",
    "    def _loss(self, coef, X, y):\n",
    "        predictions = self._sigmoid(X @ coef)\n",
    "        # Basic log loss\n",
    "        basic_loss = log_loss(y, predictions)\n",
    "        \n",
    "        # Regularization term, selectively applied with L1 penalty\n",
    "        reg_term = sum(self.penalty_weights[i] * abs(coef[self.penalty_indices[i]]) for i in range(len(self.penalty_indices)))\n",
    "        \n",
    "        return basic_loss + reg_term\n",
    "    \n",
    "    def fit(self, X, y):\n",
    "        # Add intercept term\n",
    "        X = np.hstack([np.ones((X.shape[0], 1)), X])\n",
    "        \n",
    "        initial_coef = np.zeros(X.shape[1])\n",
    "        result = minimize(self._loss, initial_coef, args=(X, y), method='SLSQP', tol=self.tol, options={'maxiter': self.max_iter})\n",
    "        \n",
    "        self.coef_ = result.x\n",
    "        return self\n",
    "    \n",
    "    def predict_proba(self, X):\n",
    "        X = np.hstack([np.ones((X.shape[0], 1)), X])\n",
    "        proba = self._sigmoid(X @ self.coef_)\n",
    "        return np.vstack([1-proba, proba]).T\n",
    "    \n",
    "    def predict(self, X):\n",
    "        return (self.predict_proba(X)[:, 1] > 0.5).astype(int)"
   ]
  },
  {
   "cell_type": "code",
   "execution_count": null,
   "metadata": {},
   "outputs": [],
   "source": [
    "lasso_cv = LassoCV(alphas=None, cv=5, random_state=0)\n",
    "\n",
    "# Fit the model\n",
    "lasso_cv.fit(x_train2, y_train)\n",
    "\n",
    "# Best alpha\n",
    "print(f\"Best alpha: {lasso_cv.alpha_}\")"
   ]
  },
  {
   "cell_type": "code",
   "execution_count": null,
   "metadata": {},
   "outputs": [],
   "source": [
    "x_train2 = x_train2.values\n",
    "y_train2 = y_train.values\n",
    "x_test2 = x_test2.values\n",
    "y_test2 = y_test.values"
   ]
  },
  {
   "cell_type": "code",
   "execution_count": null,
   "metadata": {},
   "outputs": [],
   "source": [
    "penalty_indices = [1,2,3,4,5,6,8] # Apply penalties to all coefficients except that of d and d_predicted\n",
    "penalty_weights = [0.0014,0.0014,0.0014,0.0014,0.0014,0.0014,0.0014] # Penalty weights for these coefficients\n",
    "# penalty_weights = [0.1,0.1,0.1,0.1,0.1,0.1,0.1] # Penalty weights for these coefficients\n",
    "# penalty_weights = [0.5,0.5,0.5,0.5,0.5,0.5,0.5] # Penalty weights for these coefficients\n",
    "\n",
    "model = SelectiveRegularizationLogisticRegression(penalty_indices=penalty_indices, penalty_weights=penalty_weights)\n",
    "model.fit(x_train2, y_train)"
   ]
  },
  {
   "cell_type": "code",
   "execution_count": null,
   "metadata": {},
   "outputs": [],
   "source": [
    "print(\"Coefficients for features:\", model.coef_)"
   ]
  },
  {
   "cell_type": "code",
   "execution_count": null,
   "metadata": {},
   "outputs": [],
   "source": [
    "#Predict and evaluate model\n",
    "y_pred = model.predict(x_test2)\n",
    "mse = mean_squared_error(y_test2, y_pred)\n",
    "rmse = np.sqrt(mse)\n",
    "r2_score = r2_score(y_test2, y_pred)\n",
    "print(\"MSE:\", mse)\n",
    "print(\"RMSE:\", rmse)\n",
    "print(\"R^2:\", r2_score)"
   ]
  },
  {
   "cell_type": "markdown",
   "metadata": {},
   "source": [
    "R^2 is negative here which states that null model would be better in prediction of outcome variable. So, the model is not effective at predicting whether a person gets cured. This might be because small data is used and it has only a few patients who were prescribed ozempic and then got treated of obesity/hypertension. Taking large data might make the performance of the model better.\n",
    "\n",
    "Therefore, we can rely on the coefficient of d here, which is positive. If the model was good, and the coefficient was d was positive, we could have concluded that ozempic helps in treating obesity/hypertension. But we can not conclude in this case."
   ]
  },
  {
   "cell_type": "code",
   "execution_count": null,
   "metadata": {},
   "outputs": [],
   "source": [
    "oz_count = filtered_df2[(filtered_df2['d'] == 1)].shape[0]\n",
    "print(\"In the dataset, number of patients who were given ozempic are\", oz_count)\n",
    "print(\"And total number of patients are \",filtered_df2.shape[0])"
   ]
  },
  {
   "cell_type": "code",
   "execution_count": null,
   "metadata": {},
   "outputs": [],
   "source": [
    "zip_count = medical_df[medical_df['d'] == 1]['patient_short_zip'].value_counts()\n",
    "\n",
    "# Plotting\n",
    "zip_count.plot(kind='bar', figsize=(10, 6), color='skyblue')\n",
    "plt.title('Count of Patient (who were treated with ozempic) Zip Code')\n",
    "plt.xlabel('Zip Code')\n",
    "plt.ylabel('Count')\n",
    "plt.xticks(rotation=45, ha='right')\n",
    "plt.tight_layout()\n",
    "plt.show()"
   ]
  },
  {
   "cell_type": "markdown",
   "metadata": {},
   "source": [
    "Majority chunk from California again as shown by state distribution. Within California, people from San Diego are prescribed ozempic the most. Ozempic is prescribed a lot in Southern California.\n",
    "\n",
    "921.0 - San Diego\n",
    "\n",
    "922.0 - Indio\n",
    "\n",
    "908.0 - Long Beach\n",
    "\n",
    "910.0 - Pasadena\n",
    "\n",
    "911.0 - Pasadena\n",
    "\n",
    "912.0 - Glendale, CA\n",
    "\n",
    "853.0 - Glendale, AZ"
   ]
  },
  {
   "cell_type": "code",
   "execution_count": null,
   "metadata": {},
   "outputs": [],
   "source": [
    "zip_count = medical_df[medical_df['OH'] == 1]['patient_short_zip'].value_counts()\n",
    "\n",
    "# Plotting\n",
    "zip_count.plot(kind='bar', figsize=(10, 6), color='skyblue')\n",
    "plt.title('Count of Patient (who has obesity/hypertension) Zip Code')\n",
    "plt.xlabel('Zip Code')\n",
    "plt.ylabel('Count')\n",
    "plt.xticks(rotation=45, ha='right')\n",
    "plt.tight_layout()\n",
    "plt.show()"
   ]
  },
  {
   "cell_type": "markdown",
   "metadata": {},
   "source": [
    "900 - LA does not show up in patients who got ozempic however, LA has a lot of patient who were diagnosed with obesity/hypertension"
   ]
  },
  {
   "cell_type": "code",
   "execution_count": null,
   "metadata": {},
   "outputs": [],
   "source": [
    "data = {\n",
    "    'City': ['San Diego', 'Indio','Long Beach','Glendale'],\n",
    "    'Population': ['1.39M', '88,542','147,321','195,477'],\n",
    "    'Median Age': [35.4, 40.7, '35.1','41.3'],\n",
    "    'Poverty Rate': ['11.6%', '14.5%','15.9%','13.9%'],\n",
    "    'Median Household Income': ['$89,457', '$59,399','$66,041','$74,644'],\n",
    "    'Median Property Value': ['$664,000', '$311,700','$520,200','$866,900'],\n",
    "    'Employed Population': [696506, np.nan,np.nan,85382]\n",
    "}\n",
    "\n",
    "cities_df = pd.DataFrame(data)\n",
    "cities_df"
   ]
  },
  {
   "cell_type": "markdown",
   "metadata": {},
   "source": [
    "Information related to zip codes does not make the impacting factors clear."
   ]
  }
 ],
 "metadata": {
  "kernelspec": {
   "display_name": "Python 3",
   "language": "python",
   "name": "python3"
  },
  "language_info": {
   "codemirror_mode": {
    "name": "ipython",
    "version": 3
   },
   "file_extension": ".py",
   "mimetype": "text/x-python",
   "name": "python",
   "nbconvert_exporter": "python",
   "pygments_lexer": "ipython3",
   "version": "3.9.6"
  }
 },
 "nbformat": 4,
 "nbformat_minor": 2
}
